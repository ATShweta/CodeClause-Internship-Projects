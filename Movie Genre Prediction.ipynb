{
 "cells": [
  {
   "cell_type": "markdown",
   "id": "5f77e32b-5b8e-44b7-af5d-2cc66b008b69",
   "metadata": {},
   "source": [
    "# CodeClause Internship\n",
    "#### Project ID - #CC69848\n",
    "#### Project Title - Movie Genre Prediction\n",
    "#### Internship Domain - Data Science Intern\n",
    "#### Project Level - Intermediate Level\n",
    "#### Aim -\n",
    "> Predict the genre of a movie based on its plot summary and other features.\n",
    "#### Description - \n",
    "> Use natural language processing (NLP) techniques for text classification on a movie dataset.\n",
    "#### Technologies - \n",
    "> Python, NLTK or SpaCy, Scikit-learn."
   ]
  },
  {
   "cell_type": "markdown",
   "id": "70228f8a-2aa4-4e74-8e0f-3aa1f7945498",
   "metadata": {},
   "source": [
    "## 1. Import Necessary Libraries"
   ]
  },
  {
   "cell_type": "code",
   "execution_count": 1,
   "id": "8cfd993e-3a3d-4c2a-8eb9-f4ddfb504117",
   "metadata": {},
   "outputs": [],
   "source": [
    "import pandas as pd\n",
    "from sklearn.model_selection import train_test_split\n",
    "from sklearn.feature_extraction.text import TfidfVectorizer\n",
    "from sklearn.naive_bayes import MultinomialNB\n",
    "from sklearn.ensemble import RandomForestClassifier\n",
    "from sklearn.metrics import accuracy_score, f1_score, classification_report\n",
    "import nltk\n",
    "from nltk.corpus import stopwords\n",
    "import re\n",
    "\n",
    "# Download NLTK stopwords\n",
    "# nltk.download('stopwords')\n",
    "\n",
    "\n",
    "pd.set_option('display.max_rows', 150)"
   ]
  },
  {
   "cell_type": "markdown",
   "id": "edf837fc-941f-4cbb-94df-73ca226dd481",
   "metadata": {},
   "source": [
    "## 2: Loading and Exploring the Dataset"
   ]
  },
  {
   "cell_type": "code",
   "execution_count": 2,
   "id": "2bcb4ca7-e038-4c0c-8cd2-7d55f2b1af49",
   "metadata": {},
   "outputs": [
    {
     "data": {
      "text/html": [
       "<div>\n",
       "<style scoped>\n",
       "    .dataframe tbody tr th:only-of-type {\n",
       "        vertical-align: middle;\n",
       "    }\n",
       "\n",
       "    .dataframe tbody tr th {\n",
       "        vertical-align: top;\n",
       "    }\n",
       "\n",
       "    .dataframe thead th {\n",
       "        text-align: right;\n",
       "    }\n",
       "</style>\n",
       "<table border=\"1\" class=\"dataframe\">\n",
       "  <thead>\n",
       "    <tr style=\"text-align: right;\">\n",
       "      <th></th>\n",
       "      <th>imdb_id</th>\n",
       "      <th>title</th>\n",
       "      <th>plot_synopsis</th>\n",
       "      <th>tags</th>\n",
       "      <th>split</th>\n",
       "      <th>synopsis_source</th>\n",
       "    </tr>\n",
       "  </thead>\n",
       "  <tbody>\n",
       "    <tr>\n",
       "      <th>0</th>\n",
       "      <td>tt0057603</td>\n",
       "      <td>I tre volti della paura</td>\n",
       "      <td>Note: this synopsis is for the orginal Italian...</td>\n",
       "      <td>cult, horror, gothic, murder, atmospheric</td>\n",
       "      <td>train</td>\n",
       "      <td>imdb</td>\n",
       "    </tr>\n",
       "    <tr>\n",
       "      <th>1</th>\n",
       "      <td>tt1733125</td>\n",
       "      <td>Dungeons &amp; Dragons: The Book of Vile Darkness</td>\n",
       "      <td>Two thousand years ago, Nhagruul the Foul, a s...</td>\n",
       "      <td>violence</td>\n",
       "      <td>train</td>\n",
       "      <td>imdb</td>\n",
       "    </tr>\n",
       "    <tr>\n",
       "      <th>2</th>\n",
       "      <td>tt0033045</td>\n",
       "      <td>The Shop Around the Corner</td>\n",
       "      <td>Matuschek's, a gift store in Budapest, is the ...</td>\n",
       "      <td>romantic</td>\n",
       "      <td>test</td>\n",
       "      <td>imdb</td>\n",
       "    </tr>\n",
       "    <tr>\n",
       "      <th>3</th>\n",
       "      <td>tt0113862</td>\n",
       "      <td>Mr. Holland's Opus</td>\n",
       "      <td>Glenn Holland, not a morning person by anyone'...</td>\n",
       "      <td>inspiring, romantic, stupid, feel-good</td>\n",
       "      <td>train</td>\n",
       "      <td>imdb</td>\n",
       "    </tr>\n",
       "    <tr>\n",
       "      <th>4</th>\n",
       "      <td>tt0086250</td>\n",
       "      <td>Scarface</td>\n",
       "      <td>In May 1980, a Cuban man named Tony Montana (A...</td>\n",
       "      <td>cruelty, murder, dramatic, cult, violence, atm...</td>\n",
       "      <td>val</td>\n",
       "      <td>imdb</td>\n",
       "    </tr>\n",
       "  </tbody>\n",
       "</table>\n",
       "</div>"
      ],
      "text/plain": [
       "     imdb_id                                          title  \\\n",
       "0  tt0057603                        I tre volti della paura   \n",
       "1  tt1733125  Dungeons & Dragons: The Book of Vile Darkness   \n",
       "2  tt0033045                     The Shop Around the Corner   \n",
       "3  tt0113862                             Mr. Holland's Opus   \n",
       "4  tt0086250                                       Scarface   \n",
       "\n",
       "                                       plot_synopsis  \\\n",
       "0  Note: this synopsis is for the orginal Italian...   \n",
       "1  Two thousand years ago, Nhagruul the Foul, a s...   \n",
       "2  Matuschek's, a gift store in Budapest, is the ...   \n",
       "3  Glenn Holland, not a morning person by anyone'...   \n",
       "4  In May 1980, a Cuban man named Tony Montana (A...   \n",
       "\n",
       "                                                tags  split synopsis_source  \n",
       "0          cult, horror, gothic, murder, atmospheric  train            imdb  \n",
       "1                                           violence  train            imdb  \n",
       "2                                           romantic   test            imdb  \n",
       "3             inspiring, romantic, stupid, feel-good  train            imdb  \n",
       "4  cruelty, murder, dramatic, cult, violence, atm...    val            imdb  "
      ]
     },
     "execution_count": 2,
     "metadata": {},
     "output_type": "execute_result"
    }
   ],
   "source": [
    "df = pd.read_csv('~/anaconda3/.kaggle/mpst-movie/mpst_full_data.csv')\n",
    "df.head()"
   ]
  },
  {
   "cell_type": "code",
   "execution_count": 3,
   "id": "c040bb73-cfec-480d-b3e3-94f2322d8fba",
   "metadata": {},
   "outputs": [
    {
     "name": "stdout",
     "output_type": "stream",
     "text": [
      "<class 'pandas.core.frame.DataFrame'>\n",
      "RangeIndex: 14828 entries, 0 to 14827\n",
      "Data columns (total 6 columns):\n",
      " #   Column           Non-Null Count  Dtype \n",
      "---  ------           --------------  ----- \n",
      " 0   imdb_id          14828 non-null  object\n",
      " 1   title            14828 non-null  object\n",
      " 2   plot_synopsis    14828 non-null  object\n",
      " 3   tags             14828 non-null  object\n",
      " 4   split            14828 non-null  object\n",
      " 5   synopsis_source  14828 non-null  object\n",
      "dtypes: object(6)\n",
      "memory usage: 695.2+ KB\n"
     ]
    }
   ],
   "source": [
    "df.info()"
   ]
  },
  {
   "cell_type": "code",
   "execution_count": 4,
   "id": "da09ae28-8360-4a6e-8f5e-72d44bb46210",
   "metadata": {
    "scrolled": true
   },
   "outputs": [
    {
     "data": {
      "text/plain": [
       "<bound method NDFrame.describe of          imdb_id                                          title  \\\n",
       "0      tt0057603                        I tre volti della paura   \n",
       "1      tt1733125  Dungeons & Dragons: The Book of Vile Darkness   \n",
       "2      tt0033045                     The Shop Around the Corner   \n",
       "3      tt0113862                             Mr. Holland's Opus   \n",
       "4      tt0086250                                       Scarface   \n",
       "...          ...                                            ...   \n",
       "14823  tt0219952                                  Lucky Numbers   \n",
       "14824  tt1371159                                     Iron Man 2   \n",
       "14825  tt0063443                                     Play Dirty   \n",
       "14826  tt0039464                                      High Wall   \n",
       "14827  tt0235166                               Against All Hope   \n",
       "\n",
       "                                           plot_synopsis  \\\n",
       "0      Note: this synopsis is for the orginal Italian...   \n",
       "1      Two thousand years ago, Nhagruul the Foul, a s...   \n",
       "2      Matuschek's, a gift store in Budapest, is the ...   \n",
       "3      Glenn Holland, not a morning person by anyone'...   \n",
       "4      In May 1980, a Cuban man named Tony Montana (A...   \n",
       "...                                                  ...   \n",
       "14823  In 1988 Russ Richards (John Travolta), the wea...   \n",
       "14824  In Russia, the media covers Tony Stark's discl...   \n",
       "14825  During the North African Campaign in World War...   \n",
       "14826  Steven Kenet catches his unfaithful wife in th...   \n",
       "14827  Sometime in the 1950s in Chicago a man, Cecil ...   \n",
       "\n",
       "                                                    tags  split  \\\n",
       "0              cult, horror, gothic, murder, atmospheric  train   \n",
       "1                                               violence  train   \n",
       "2                                               romantic   test   \n",
       "3                 inspiring, romantic, stupid, feel-good  train   \n",
       "4      cruelty, murder, dramatic, cult, violence, atm...    val   \n",
       "...                                                  ...    ...   \n",
       "14823                                     comedy, murder   test   \n",
       "14824                         good versus evil, violence  train   \n",
       "14825                                           anti war  train   \n",
       "14826                                             murder   test   \n",
       "14827                                     christian film   test   \n",
       "\n",
       "      synopsis_source  \n",
       "0                imdb  \n",
       "1                imdb  \n",
       "2                imdb  \n",
       "3                imdb  \n",
       "4                imdb  \n",
       "...               ...  \n",
       "14823       wikipedia  \n",
       "14824       wikipedia  \n",
       "14825       wikipedia  \n",
       "14826       wikipedia  \n",
       "14827       wikipedia  \n",
       "\n",
       "[14828 rows x 6 columns]>"
      ]
     },
     "execution_count": 4,
     "metadata": {},
     "output_type": "execute_result"
    }
   ],
   "source": [
    "df.describe"
   ]
  },
  {
   "cell_type": "code",
   "execution_count": 5,
   "id": "21fd3b34-b264-4667-9a14-31e5dee91dcf",
   "metadata": {},
   "outputs": [
    {
     "data": {
      "text/plain": [
       "(14828, 6)"
      ]
     },
     "execution_count": 5,
     "metadata": {},
     "output_type": "execute_result"
    }
   ],
   "source": [
    "df.shape"
   ]
  },
  {
   "cell_type": "code",
   "execution_count": 6,
   "id": "538b84dd-041e-4325-9957-2aa4247d9605",
   "metadata": {},
   "outputs": [
    {
     "data": {
      "text/plain": [
       "Index(['imdb_id', 'title', 'plot_synopsis', 'tags', 'split',\n",
       "       'synopsis_source'],\n",
       "      dtype='object')"
      ]
     },
     "execution_count": 6,
     "metadata": {},
     "output_type": "execute_result"
    }
   ],
   "source": [
    "df.columns"
   ]
  },
  {
   "cell_type": "markdown",
   "id": "7836d59b-7df0-456c-b9ff-20a690b9f193",
   "metadata": {},
   "source": [
    "##  3: Data Preprocessing"
   ]
  },
  {
   "cell_type": "markdown",
   "id": "3e3b2d23-8b6c-4170-b60e-ea605290f571",
   "metadata": {},
   "source": [
    "### 3.1 Handle Missing Values"
   ]
  },
  {
   "cell_type": "code",
   "execution_count": 7,
   "id": "59712eb4-e71a-4456-9fe9-39219f24e013",
   "metadata": {},
   "outputs": [
    {
     "data": {
      "text/plain": [
       "imdb_id            0\n",
       "title              0\n",
       "plot_synopsis      0\n",
       "tags               0\n",
       "split              0\n",
       "synopsis_source    0\n",
       "dtype: int64"
      ]
     },
     "execution_count": 7,
     "metadata": {},
     "output_type": "execute_result"
    }
   ],
   "source": [
    "# check for missing values\n",
    "\n",
    "df.isnull().sum()"
   ]
  },
  {
   "cell_type": "markdown",
   "id": "545ab15d-fb09-4f69-9faa-645895917f14",
   "metadata": {},
   "source": [
    "### 3.2 Preprocess the Text Data"
   ]
  },
  {
   "cell_type": "code",
   "execution_count": null,
   "id": "cee40a24-0e54-4127-9690-2c6fd7e6857e",
   "metadata": {},
   "outputs": [],
   "source": [
    "# Define a function to clean the plot_synopsis\n",
    "def clean_text(text):\n",
    "    text = text.lower()  # Convert to lowercase\n",
    "    text = re.sub(r'\\s+', ' ', text)  # Remove extra spaces\n",
    "    text = re.sub(r'[^\\w\\s]', '', text)  # Remove punctuation\n",
    "    text = ' '.join([word for word in text.split() if word not in stopwords.words('english')])\n",
    "    return text\n",
    "\n",
    "# Apply the function to clean the 'plot_synopsis' column\n",
    "df['cleaned_synopsis'] = df['plot_synopsis'].apply(clean_text)\n"
   ]
  },
  {
   "cell_type": "markdown",
   "id": "37e2349f-995a-4293-b8ec-00e8c0011cb3",
   "metadata": {},
   "source": [
    "## 4. Feature Extraction using TF-IDF"
   ]
  },
  {
   "cell_type": "code",
   "execution_count": null,
   "id": "e51e11f4-991d-4f29-b153-2d961568116a",
   "metadata": {},
   "outputs": [],
   "source": [
    "# Initialize TF-IDF Vectorizer\n",
    "tfidf = TfidfVectorizer(max_features=5000)\n",
    "\n",
    "# Transform the text data\n",
    "X = tfidf.fit_transform(df['cleaned_synopsis'])\n",
    "\n",
    "# Target variable\n",
    "y = df['tags']\n"
   ]
  },
  {
   "cell_type": "markdown",
   "id": "173766b8-d541-4ca3-986f-26f3ad6bc99d",
   "metadata": {},
   "source": [
    "## 5. Split the Dataset"
   ]
  },
  {
   "cell_type": "code",
   "execution_count": null,
   "id": "c948eab3-cdff-469c-85da-b7ce43c1533b",
   "metadata": {},
   "outputs": [],
   "source": [
    "# Split the dataset into training and testing sets\n",
    "X_train, X_test, y_train, y_test = train_test_split(X, y, test_size=0.2, random_state=42)\n"
   ]
  },
  {
   "cell_type": "markdown",
   "id": "2b358945-06f4-4a59-9f3c-f409d54011f9",
   "metadata": {},
   "source": [
    "## 6. Train and Evaluate Models"
   ]
  },
  {
   "cell_type": "markdown",
   "id": "af36deab-ac05-43b4-b848-817f6c3efa51",
   "metadata": {},
   "source": [
    "### Multinomial Naive Bayes"
   ]
  },
  {
   "cell_type": "code",
   "execution_count": null,
   "id": "00a42c31-0119-4f05-a2e5-86eb108dc356",
   "metadata": {},
   "outputs": [],
   "source": [
    "# Initialize and train the Multinomial Naive Bayes model\n",
    "nb_model = MultinomialNB()\n",
    "nb_model.fit(X_train, y_train)\n",
    "\n",
    "# Predict and evaluate the model\n",
    "nb_predictions = nb_model.predict(X_test)\n",
    "nb_accuracy = accuracy_score(y_test, nb_predictions)\n",
    "nb_f1 = f1_score(y_test, nb_predictions, average='weighted')\n",
    "\n",
    "print(\"Multinomial Naive Bayes Accuracy:\", nb_accuracy)\n",
    "print(\"Multinomial Naive Bayes F1 Score:\", nb_f1)\n",
    "print(classification_report(y_test, nb_predictions))\n"
   ]
  },
  {
   "cell_type": "markdown",
   "id": "79c86fe5-2dfe-4bcb-b001-3993e9b6c34b",
   "metadata": {},
   "source": [
    "### Random Forest"
   ]
  },
  {
   "cell_type": "code",
   "execution_count": null,
   "id": "afbcaa13-7c0a-4a15-8440-0d8dd6d02889",
   "metadata": {},
   "outputs": [],
   "source": [
    "# Initialize and train the Random Forest model\n",
    "rf_model = RandomForestClassifier(random_state=42)\n",
    "rf_model.fit(X_train, y_train)\n",
    "\n",
    "# Predict and evaluate the model\n",
    "rf_predictions = rf_model.predict(X_test)\n",
    "rf_accuracy = accuracy_score(y_test, rf_predictions)\n",
    "rf_f1 = f1_score(y_test, rf_predictions, average='weighted')\n",
    "\n",
    "print(\"Random Forest Accuracy:\", rf_accuracy)\n",
    "print(\"Random Forest F1 Score:\", rf_f1)\n",
    "print(classification_report(y_test, rf_predictions))\n"
   ]
  },
  {
   "cell_type": "markdown",
   "id": "356b3747-a0e0-4be7-9423-f3502af8436b",
   "metadata": {},
   "source": [
    "## 7. Testing with Sample Input"
   ]
  },
  {
   "cell_type": "code",
   "execution_count": null,
   "id": "cd006237-7022-4a90-beee-887e79a73bb9",
   "metadata": {},
   "outputs": [],
   "source": [
    "def predict_genre(plot_summary):\n",
    "    cleaned_summary = clean_text(plot_summary)\n",
    "    vectorized_summary = tfidf.transform([cleaned_summary])\n",
    "    nb_prediction = nb_model.predict(vectorized_summary)\n",
    "    rf_prediction = rf_model.predict(vectorized_summary)\n",
    "    \n",
    "    print(f\"Multinomial Naive Bayes Prediction: {nb_prediction[0]}\")\n",
    "    print(f\"Random Forest Prediction: {rf_prediction[0]}\")\n",
    "\n",
    "# Test with a sample input\n",
    "sample_plot = \"A young girl discovers her magical powers and fights to save her kingdom from an evil sorcerer.\"\n",
    "predict_genre(sample_plot)\n"
   ]
  },
  {
   "cell_type": "markdown",
   "id": "8dabcb36-ca29-4cad-a4f1-95bb3552cfb6",
   "metadata": {},
   "source": [
    "Top 5 Testing Suggestions\n",
    "You can test the model with the following plots:\n",
    "\n",
    "\"A detective investigates a series of mysterious murders in a small town.\"\n",
    "\"An astronaut embarks on a dangerous mission to save humanity.\"\n",
    "\"Two best friends navigate the challenges of high school.\"\n",
    "\"A warrior seeks revenge against those who wronged him.\"\n",
    "\"A family moves into a haunted house and experiences paranormal events.\"\n",
    "This program is designed to predict movie genres based on plot summaries using both Multinomial Naive Bayes and Random Forest classifiers. You can adjust parameters or try different models to improve accuracy.\n",
    "\n",
    "\n"
   ]
  },
  {
   "cell_type": "code",
   "execution_count": null,
   "id": "5c398a91-a351-4548-976e-8ba1ca34b155",
   "metadata": {},
   "outputs": [],
   "source": []
  }
 ],
 "metadata": {
  "kernelspec": {
   "display_name": "Python 3 (ipykernel)",
   "language": "python",
   "name": "python3"
  },
  "language_info": {
   "codemirror_mode": {
    "name": "ipython",
    "version": 3
   },
   "file_extension": ".py",
   "mimetype": "text/x-python",
   "name": "python",
   "nbconvert_exporter": "python",
   "pygments_lexer": "ipython3",
   "version": "3.11.7"
  }
 },
 "nbformat": 4,
 "nbformat_minor": 5
}
